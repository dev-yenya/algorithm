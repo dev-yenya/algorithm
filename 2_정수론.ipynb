{
  "nbformat": 4,
  "nbformat_minor": 0,
  "metadata": {
    "colab": {
      "provenance": []
    },
    "kernelspec": {
      "name": "python3",
      "display_name": "Python 3"
    },
    "language_info": {
      "name": "python"
    }
  },
  "cells": [
    {
      "cell_type": "markdown",
      "source": [
        "# 정수론\n",
        "* 완전탐색을 수학으로 최적화하기\n",
        "* 시간적/공간적 한계가 발생했을 때 최적화를 다양하게 할 수 있는데...\n",
        "* python은 1~1억까지 연산이 가능하다 -> 1초\n",
        "* 1~10억? -> 1초라는 시간 안에는 안됨\n",
        "\n",
        "# 문제 해결은 가능하다. But...\n",
        "* 빠르게 / 시간 안에 / 효율적으로..."
      ],
      "metadata": {
        "id": "AG0uJ5UrQQ1k"
      }
    },
    {
      "cell_type": "markdown",
      "source": [
        "# 문제 1. 비밀번호(#15786)\n",
        "[BOJ 15786](https://www.acmicpc.net/problem/15736)"
      ],
      "metadata": {
        "id": "WFleeOZ_RUJX"
      }
    },
    {
      "cell_type": "markdown",
      "source": [
        "문제 1. 조명 ( #15736 )\n",
        "\n",
        "총 N개의 초록색 조명이 있습니다.\n",
        "\n",
        "이 조명은 버튼을 눌러서, 초록색 >  빨간색 > 초록색 으로 바꿀 수 있습니다.\n",
        "\n",
        "1부터 N명까지의 학생들이 나와서 자신의 순서의 배수에 해당하는 조명에 버튼을 눌러서 색을 바꿉니다.\n",
        "\n",
        "숫자 N이 주어졌을 때, N명의 학생들이 모두 버튼을 누른 뒤 남은 빨간색 조명의 개수를 출력하세요.\n",
        "\n",
        "24\n",
        "4\n",
        "\n"
      ],
      "metadata": {
        "id": "FvLs7GaJ5jt3"
      }
    },
    {
      "cell_type": "code",
      "execution_count": null,
      "metadata": {
        "id": "yDVYL9oUQI7D"
      },
      "outputs": [],
      "source": [
        "#   1 2 3 4 5 6 7 8 9 10\n",
        "#   X X X X X X X X X X\n",
        "#   O O O O O O O O O O (1)\n",
        "#     X   X   X   X   X (2)\n",
        "#       X     O     X   (3)\n",
        "#         O       O     (4)\n",
        "#           X         O (5)\n",
        "#             X         (6)\n",
        "#               X       (7)\n",
        "#                 X     (8)\n",
        "#                   O   (9)\n",
        "#                     X (10)\n",
        "\n",
        "# 결국 청기, 백기를 뒤집다 보면 제곱수만 남는다."
      ]
    },
    {
      "cell_type": "code",
      "source": [
        "# 제곱수를 구하는 문제\n",
        "n = int(input())\n",
        "print(int(n**0.5))"
      ],
      "metadata": {
        "colab": {
          "base_uri": "https://localhost:8080/"
        },
        "id": "QIxj7vm0TE_K",
        "outputId": "910bf962-70b8-4082-c257-3227c0380f16"
      },
      "execution_count": null,
      "outputs": [
        {
          "output_type": "stream",
          "name": "stdout",
          "text": [
            "24\n",
            "4\n"
          ]
        }
      ]
    },
    {
      "cell_type": "markdown",
      "source": [
        "# 정수론\n",
        "* 암기하라! 는 아니고... 가능하면 이런 사고도 해보자!\n",
        "* 수학적 사고는 문제를 엄청나게 빠르게 획기적으로 풀 수 있게 도와줍니다."
      ],
      "metadata": {
        "id": "zo9rnD2dTw4-"
      }
    },
    {
      "cell_type": "markdown",
      "source": [
        "# 문제 2. 약수 빠르게 구하기 (#1978, #11653, #14232)\n",
        "[BOJ 14232](https://www.acmicpc.net/problem/14232)"
      ],
      "metadata": {
        "id": "YZzw-1NFT4U6"
      }
    },
    {
      "cell_type": "markdown",
      "source": [
        "문제 2. 약수 빠르게 구하기 ( #1978, #11653, #14232 )\n",
        "\n",
        "숫자 N이 주어진다.\n",
        "\n",
        "이 숫자의 약수가 총 몇 개가 포함되어 있는지 계산하고 싶다.\n",
        "\n",
        "약수의 개수와, 약수들을 모두 출력하는 프로그램을 작성하시오.\n",
        "\n",
        "\n",
        "15\n",
        "\n",
        "2\n",
        "3 5\n"
      ],
      "metadata": {
        "id": "qrDt9fq45gdM"
      }
    },
    {
      "cell_type": "code",
      "source": [
        "# 16\n",
        "# 1 16\n",
        "# 2 8\n",
        "# 4\n",
        "\n",
        "# 18\n",
        "# 1 18\n",
        "# 2 9\n",
        "# 3 6"
      ],
      "metadata": {
        "id": "dWhw_1V7T3wz"
      },
      "execution_count": null,
      "outputs": []
    },
    {
      "cell_type": "code",
      "source": [
        "n = int(input())\n",
        "answer = []\n",
        "\n",
        "for i in range(2, int(n**0.5)+1):\n",
        "  if n % i == 0:\n",
        "    answer.append(i)\n",
        "    answer.append(n//i)\n",
        "\n",
        "answer.sort()\n",
        "print(len(answer))\n",
        "print(\" \".join(map(str, answer)))"
      ],
      "metadata": {
        "colab": {
          "base_uri": "https://localhost:8080/"
        },
        "id": "G6uq9BjZU5ik",
        "outputId": "b0a1006e-6564-41c6-abab-1f29c77fc5a8"
      },
      "execution_count": null,
      "outputs": [
        {
          "output_type": "stream",
          "name": "stdout",
          "text": [
            "15\n",
            "2\n",
            "3 5\n"
          ]
        }
      ]
    },
    {
      "cell_type": "code",
      "source": [
        "n = int(input()) # 출력 초과\n",
        "for i in range(2, int(n**0.5)+1):\n",
        "  if n % i == 0:\n",
        "    print(i, n//i)"
      ],
      "metadata": {
        "colab": {
          "base_uri": "https://localhost:8080/"
        },
        "id": "56PiRu6ZWiqg",
        "outputId": "d3658f5e-c2f2-4a21-a977-b0d080b4b15e"
      },
      "execution_count": null,
      "outputs": [
        {
          "output_type": "stream",
          "name": "stdout",
          "text": [
            "15\n",
            "3 5\n"
          ]
        }
      ]
    },
    {
      "cell_type": "markdown",
      "source": [
        "# 기막힘! 거의다했는데..."
      ],
      "metadata": {
        "id": "iq0CFstCQWK7"
      }
    },
    {
      "cell_type": "code",
      "source": [
        "# 해답\n",
        "n = int(input()) # 60\n",
        "answer = []\n",
        "\n",
        "for i in range(2, int(n**0.5)+1): # 2 ~ 7(60의 제곱근)\n",
        "  while n % i == 0:\n",
        "    answer.append(i)\n",
        "    print(\"i:\", i)\n",
        "    print(answer)\n",
        "    print(n)\n",
        "    n //= i\n",
        "\n",
        "if n != 1: answer.append(n)\n",
        "\n",
        "print(len(answer))\n",
        "print(*answer) # 리스트 요소 띄워쓰기해서 출력"
      ],
      "metadata": {
        "colab": {
          "base_uri": "https://localhost:8080/"
        },
        "id": "efHybYvQP3Sw",
        "outputId": "865fde28-4a0e-4086-c920-5f42cc6af5b6"
      },
      "execution_count": null,
      "outputs": [
        {
          "output_type": "stream",
          "name": "stdout",
          "text": [
            "60\n",
            "i: 2\n",
            "[2]\n",
            "60\n",
            "i: 2\n",
            "[2, 2]\n",
            "30\n",
            "i: 3\n",
            "[2, 2, 3]\n",
            "15\n",
            "i: 5\n",
            "[2, 2, 3, 5]\n",
            "5\n",
            "4\n",
            "2 2 3 5\n"
          ]
        }
      ]
    },
    {
      "cell_type": "markdown",
      "source": [
        "# 문제 3. 숨어 있는 숫자 찾기 ( #1407, # 2247 )\n"
      ],
      "metadata": {
        "id": "Y0MdmcbdT3IL"
      }
    },
    {
      "cell_type": "markdown",
      "source": [
        "`20! = 20 * 19 * 18 * ... * 2 * 1`\n",
        "\n",
        "20팩토리얼에는 2가 얼마나 곱해져 있을까?\n",
        "\n",
        "### 일단! 완전탐색  \n",
        "\n",
        "```\n",
        "1 2 3 4 5 6 7 8 9 10\n",
        "  1   2   1   3   1\n",
        "\n",
        "11 12 13 14 15 16 17 18 19 20\n",
        "    2    1     4     1     2\n",
        "```\n",
        "\n",
        "* 총 2가 곱해진 개수를 다 더하면 18  \n",
        "\n",
        "\n",
        "### 정수론 최적화\n",
        "\n",
        "```\n",
        "  1 2 3 4 5 6 7 8 9 10\n",
        "1 O O O O O O O O O  O\n",
        "2   O   O   O   O    O\n",
        "4       O       O\n",
        "8               O\n",
        "16\n",
        "\n",
        "  11 12 13 14 15 16 17 18 19 20\n",
        "2     O     O     O     O     O -> 10\n",
        "4     O           O           O -> 5\n",
        "8                 O             -> 2\n",
        "16                O             -> 1\n",
        "```\n",
        "* 2,4,8,16으로 나누어지는지 여부를 골라서 다 더해도 18\n",
        "* 각각은 *2씩 증가하는 2의 제곱수이기 때문에, 2를 몇 번 곱했는지를 확인할 수 있음\n",
        "* 20을 2, 4, 8, 16으로 나눈 몫은? -> 10 + 5 + 2 + 1 = 18\n",
        "\n",
        "\n",
        "\n",
        "\n",
        "  \n"
      ],
      "metadata": {
        "id": "XoRtIUJA16yD"
      }
    },
    {
      "cell_type": "markdown",
      "source": [
        "문제 3. 숨어 있는 숫자 찾기 ( #1407, # 2247 )\n",
        "\n",
        "\n",
        "숨어있는 숫자의 범위 A,B가 주어진다.\n",
        "\n",
        "A에서 B까지 숫자를 나열해서,\n",
        "\n",
        "각각의 숫자에서 2의 제곱수로 나누어지는 가장 큰 약수를 찾아 모두 더해서 출력하시오.\n",
        "\n",
        "\n",
        "176 177\n",
        "17"
      ],
      "metadata": {
        "id": "FHNxUtRz5b3A"
      }
    },
    {
      "cell_type": "markdown",
      "source": [
        "[1407](https://www.acmicpc.net/problem/1407)"
      ],
      "metadata": {
        "id": "k9nGAgsm-QHK"
      }
    },
    {
      "cell_type": "markdown",
      "source": [
        "* 완전 탐색으로 1~10억이면 -> 적어도 10초 걸림\n",
        "* 10^15\n",
        "* 10^8 -> 1억"
      ],
      "metadata": {
        "id": "LacBoKU6D_yK"
      }
    },
    {
      "cell_type": "markdown",
      "source": [
        "\n",
        "\n",
        "```\n",
        "# 모든 숫자는 1로 나누어 떨어진다\n",
        "\n",
        "1 2 3 4 5 6 7 8 9 10 ... 175 176\n",
        "1 2 1 4 1 2 1 8\n",
        "1 1 1 1 1 1 1 1 -> 8/1 = 8\n",
        "  o   o   o   o -> 8/2 = 4 +4(1(=2-1) * 4)\n",
        "      o       o -> 8/4 = 2 +4(2(=4-2) * 2)\n",
        "              o -> 8/8 = 1 +4(4(=8-4) * 1)\n",
        "\n",
        "              A/4 answer += A\n",
        "                  answer += A // 2 * 1\n",
        "                  answer += A // 2 * 2\n",
        "```\n",
        "\n"
      ],
      "metadata": {
        "id": "YlMHdKIvGkyg"
      }
    },
    {
      "cell_type": "code",
      "source": [
        "A, B = map(int, input().split())\n",
        "\n",
        "# tmp_B 에서 tmp_A(정확히는 A-1)을 빼면..\n",
        "A = A-1\n",
        "tmp_A = A\n",
        "\n",
        "# tmp_A : 1 ~ A-1까지 가장 큰 2의 제곱수의 약수 합\n",
        "for i in range(1, 99):\n",
        "  tmp_A += (A//(2**i)) * ((2**i) - (2**(i-1)))\n",
        "  # A // 2 * (2 - 1) : 1+1 = 2\n",
        "  # A // 4 * (4 - 2) : 2+ 2 = 4\n",
        "\n",
        "tmp_B = B\n",
        "\n",
        "# tmp_B : 1 ~ B까지 가장 큰 2의 제곱수의 약수 합\n",
        "for i in range(1, 99):\n",
        "  tmp_B += (B//(2**i)) * ((2**i) - (2**(i-1)))\n",
        "\n",
        "# tmp_B - tmp_B : A~B까지 가장 큰 2의 제곱수의 약수 합\n",
        "print(tmp_B - tmp_A)"
      ],
      "metadata": {
        "colab": {
          "base_uri": "https://localhost:8080/"
        },
        "id": "e2jENC3i5xS9",
        "outputId": "76102e1f-1d2b-48c2-f4b7-c3c2f225f299"
      },
      "execution_count": null,
      "outputs": [
        {
          "output_type": "stream",
          "name": "stdout",
          "text": [
            "176 177\n",
            "17\n"
          ]
        }
      ]
    },
    {
      "cell_type": "markdown",
      "source": [
        "[2247](https://www.acmicpc.net/problem/2247)"
      ],
      "metadata": {
        "id": "NOI1bDHbKv9f"
      }
    },
    {
      "cell_type": "markdown",
      "source": [
        "두 자연수 A와 B가 있을 때, A = BC를 만족하는 자연수 C를 A의 약수라고 한다. 모든 자연수 N은 1과 자기 자신(N)을 약수로 갖게 된다.\n",
        "\n",
        "실질적 약수(actual divisor)라는 것이 있다. 자연수 N의 약수들 중에서 1과 자기 자신(N)을 제외한 약수를 실질적 약수라고 한다. 따라서 6의 실질적 약수는 2, 3이며, 13의 실질적 약수는 없다.\n",
        "-> **소수는 실질적 약수가 없다**\n",
        "\n",
        "SOD(Sum Of Divisor)라는 함수를 정의하자. SOD(n)은 정수 n의 모든 실질적 약수의 합을 가리킨다. 따라서 SOD(6) = 5이며, SOD(13) = 0이다. 한편, CSOD(Cumulative SOD)라는 함수도 정의해 볼 수 있다. CSOD(n)은 SOD(1) + SOD(2) + … + SOD(n)이라고 하자.\n",
        "\n",
        "CSOD(n)을 구하는 프로그램을 작성하시오.\n",
        "\n",
        "```\n",
        "  1 2 3 4 5 6 7 8 9 10\n",
        "2       O   O   O   O   -> 2 * 4 = 8\n",
        "3           O     O     -> 3 * 2 = 6 14\n",
        "4               O       -> 4 * 1 = 4 18\n",
        "5                   O   -> 5 * 1 = 5 23\n",
        "```\n",
        "        2   5   6  3  7 -> 23\n"
      ],
      "metadata": {
        "id": "DNsCcJRyYtpH"
      }
    },
    {
      "cell_type": "code",
      "source": [
        "n = int(input())\n",
        "result = 0\n",
        "\n",
        "for i in range(2, n//2+1):\n",
        "  result += i * (n // i - 1)\n",
        "\n",
        "print(result % 1_000_000)"
      ],
      "metadata": {
        "colab": {
          "base_uri": "https://localhost:8080/"
        },
        "id": "1HiYDzSx9jaG",
        "outputId": "723f229f-9e70-4025-85c5-7e2959d1b406"
      },
      "execution_count": null,
      "outputs": [
        {
          "output_type": "stream",
          "name": "stdout",
          "text": [
            "100\n",
            "3150\n"
          ]
        }
      ]
    },
    {
      "cell_type": "markdown",
      "source": [
        "# GCD (유클리드 호제법)\n",
        "### 나머지가 0이 나오면 나누는 수가 최대공약수\n",
        "* 최대공약수\n",
        "* GCD(8, 12)\n",
        "* 4칸 점프 -> 8, 12 도달 가능\n",
        "* 4 : 0 -> 8 / 8 -> 12\n",
        "* 0 -> 4, 0 -> 8 반복과 같다?\n",
        "* GCD(12,8) = GCD(8, 12-8)\n",
        "* GCD(A,B) = GCD(B-A, A) = GCD(A-(B-A)), B-A)\n",
        "* 두 수의 최대공약수를 구한다는 말은 간격을 최소한까지 줄여도 동일하다.\n",
        "\n",
        "\n",
        "\n",
        "```\n",
        "# 1. 갭을 줄여도 된다.\n",
        "8 12\n",
        "4 8\n",
        "\n",
        "# 2. 최대 공약수라는 말은 두 수 중 하나로 나누어서 나머지가 생기지 않는다는 뜻이다.\n",
        "8 12\n",
        "\n",
        "# 8 4 -> 4로 나누면 더 이상 나머지가 생기지 않는다.\n",
        "# 최대공약수\n",
        "\n",
        "# 3. 한 수를 가능한 만큼 갭을 줄인다.\n",
        "# 하나의 수를 작은 수로 되는 만큼 뺀다는 말은, 나누고 나서 나머지를 뜻한다.\n",
        "\n",
        "# 121 7\n",
        "# 121-7-7-7-7-7-7\n",
        "# 121 % 7\n",
        "```\n",
        "\n",
        "\n",
        "\n",
        "\n",
        "# LCM\n",
        "* 최소공배수\n"
      ],
      "metadata": {
        "id": "n2iY3ogXcK2P"
      }
    },
    {
      "cell_type": "markdown",
      "source": [
        "# 문제 4. 공약수 ( #2436 )\n",
        "\n",
        "두 수 A와 B가 주어졌을 때,\n",
        "\n",
        "두 수의 GCD( 최대공약수 ) 와 LCM ( 최소공배수 ) 를 계산해서 구하시오.\n",
        "\n",
        "\n",
        "30 36  \n",
        "6 180\n"
      ],
      "metadata": {
        "id": "2wvF4PX3cGXa"
      }
    },
    {
      "cell_type": "code",
      "source": [
        "A = 2^3 * 3^5 * 5^1\n",
        "B = 2^5 * 3^2 * 5^2\n",
        "A*B = 2^8 * 3^7 * 5^3\n",
        "\n",
        "GCD = 2^3 * 3^2 * 5^1\n",
        "LCM = 2^5 *3^5 * 5^2"
      ],
      "metadata": {
        "id": "zHIP_wlohw4s"
      },
      "execution_count": null,
      "outputs": []
    },
    {
      "cell_type": "code",
      "source": [
        "def gcd(a,b): # 두 수를 나머지로 나누기\n",
        "  while a%b != 0: # 나머지가 0이 되는 순간 멈춘다.\n",
        "    tmp = a%b\n",
        "    a = b\n",
        "    b = tmp\n",
        "  return B\n",
        "\n",
        "def lcm(a,b): # 두 수를 곱한 후 최대공약수로 나눠주면 됨\n",
        "  return a*b // gcd(a,b)"
      ],
      "metadata": {
        "id": "V5nbp-I4dP4x"
      },
      "execution_count": null,
      "outputs": []
    },
    {
      "cell_type": "markdown",
      "source": [
        "# 문제 5. 공약수열 ( #14252 )\n",
        "\n",
        "양의 정수로 이루어진 수열이 주어진다.\n",
        "\n",
        "왼쪽부터 순서대로 숫자를 확인하는데,\n",
        "\n",
        "인접한 두 수의 공약수가 1이 되도록 만들어야 한다.\n",
        "\n",
        "이 숫자들의 공약수가 1이 되도록 만들기 위해서는 숫자 사이에 새로운 숫자를 추가하는 것만 가능하다.\n",
        "\n",
        "입력된 수열의 모든 숫자들의 공약수가 1이 되도록 만들기 위해서, 총 몇개의 숫자를 추가해야 하는지 계산하는 프로그램을 작성하시오.\n",
        "\n",
        "\n",
        "17 42 (43) 2184 (2195, 2199) 2200\n",
        "3\n",
        "\n",
        "힌트\n",
        "{43, 2195, 2199}를 추가하면 된다.  \n",
        "\n",
        "[14252](https://www.acmicpc.net/problem/14252)\n"
      ],
      "metadata": {
        "id": "XbydwIPrip9K"
      }
    },
    {
      "cell_type": "code",
      "source": [
        "# 완전탐색\n",
        "# 정수론(공약수)\n",
        "\n",
        "# 17과 42의 공약수 GCD 계산! 1이라면 PASS 아니라면 non PASS\n",
        "\n",
        "# GCD(42, 2184) != 1\n",
        "\n",
        "# 두 수를 비교해서 최대공약수가 1이라면 OK\n",
        "# 두 수를 비교해서 최대공약수가 1이 아니라면 NOK\n",
        "\n",
        "# 숫자를 하나 추가하거나 또는 두 개 추가한다.\n",
        "\n",
        "# 42부터 2184까지 하나씩 숫자를 올려가면\n",
        "\n",
        "for i in range(42,2184):\n",
        "  if gcd(42, i) == 1:\n",
        "    if gcd(2184, i) == 1:\n",
        "      count += 1\n",
        "      break\n",
        "\n",
        "for j in range(2184, 2200):\n",
        "  if gcd(42, i) == 1:\n",
        "      if gcd(2184, i) == 1:\n",
        "        count += 1\n",
        "        break\n",
        "  if j == 2199: # 하나의 수를 추가해도 양옆의 수와의 최대공약수가 1이 되게 만들 수 없다면..\n",
        "    count += 2 # count 2개 추가 -> 근데 2개 추가하면 해결되는지 어떻게 확신?\n"
      ],
      "metadata": {
        "id": "dVZv2Wl0jO7q"
      },
      "execution_count": null,
      "outputs": []
    }
  ]
}