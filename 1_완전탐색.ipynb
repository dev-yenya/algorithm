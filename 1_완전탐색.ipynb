{
  "nbformat": 4,
  "nbformat_minor": 0,
  "metadata": {
    "colab": {
      "provenance": []
    },
    "kernelspec": {
      "name": "python3",
      "display_name": "Python 3"
    },
    "language_info": {
      "name": "python"
    }
  },
  "cells": [
    {
      "cell_type": "markdown",
      "source": [
        "# 문제 1. 비밀번호(#1816)\n",
        "[BOJ 1816](https://www.acmicpc.net/problem/1816)\n",
        "* 모든 약수로 다 나눠보기"
      ],
      "metadata": {
        "id": "efnAUSH6Cg4b"
      }
    },
    {
      "cell_type": "markdown",
      "source": [
        "### 내 답"
      ],
      "metadata": {
        "id": "Hii90nGqEp5M"
      }
    },
    {
      "cell_type": "code",
      "execution_count": null,
      "metadata": {
        "colab": {
          "base_uri": "https://localhost:8080/"
        },
        "id": "ySqNQaShBQJp",
        "outputId": "232fc3f7-f2c8-4b7b-e74e-6e25ba1b806b"
      },
      "outputs": [
        {
          "output_type": "stream",
          "name": "stdout",
          "text": [
            "3\n",
            "1000036000099\n",
            "YES\n",
            "1500035500153\n",
            "NO\n",
            "20000000000002\n",
            "NO\n"
          ]
        }
      ],
      "source": [
        "# 100만보다 작고 2 이상의 약수를 가지고 있는 경우, 틀린 비밀번호\n",
        "n = int(input())\n",
        "\n",
        "for i in range(int(n)):\n",
        "  s = int(input())\n",
        "  isPrinted = False\n",
        "  for j in range(2, 1000001):\n",
        "    if s % j == 0:\n",
        "      print(\"NO\")\n",
        "      isPrinted = True\n",
        "      break\n",
        "  if not isPrinted:\n",
        "    print(\"YES\")"
      ]
    },
    {
      "cell_type": "markdown",
      "source": [
        "### 선생님 답"
      ],
      "metadata": {
        "id": "_Gc1-gOIEsVA"
      }
    },
    {
      "cell_type": "code",
      "source": [
        "# 100만보다 작고 2 이상의 약수를 가지고 있는 경우, 틀린 비밀번호\n",
        "n = int(input())\n",
        "\n",
        "for i in range(int(n)):\n",
        "  s = int(input())\n",
        "\n",
        "  for j in range(2, 1_000_001):\n",
        "    if s % j == 0: # 100만 이하의 약수가 존재\n",
        "      print(\"NO\")\n",
        "      break\n",
        "    if j == 1_000_000:\n",
        "      print(\"YES\")"
      ],
      "metadata": {
        "id": "KpgDt4weEpRg"
      },
      "execution_count": null,
      "outputs": []
    },
    {
      "cell_type": "markdown",
      "source": [
        "# 우리는 앞으로 이렇게 한다\n",
        "\n",
        "\n",
        "*   앞으로 만나게 될 모든 문제를 일단! 완전탐색, 모든 경우의 수를 넣어줄 것임.\n",
        "\n",
        "* 우리는 경우의 수가 보인다면, 그리고, 시간과, 메모리가 충분히 주어진다면 완전탐색으로 그 문제를 해결할 수 있음.\n",
        "\n",
        "* 모든 경우의 수를 주고, 경우의 수를 조건문으로 걸러내기\n",
        "\n",
        "* 수업을 진행하는 동안에는 어떤 문제를 만나더라도 완전탐색적으로 생각해서 문제를 풀기\n",
        "\n",
        "\n"
      ],
      "metadata": {
        "id": "QSNBDZEpFAs9"
      }
    },
    {
      "cell_type": "markdown",
      "source": [
        "# 문제 2 사탕\n",
        "[BOJ 14568](https://www.acmicpc.net/problem/14568)\n",
        "* 모든 경우의 수 다 때려박기"
      ],
      "metadata": {
        "id": "quk7B5rDLJa3"
      }
    },
    {
      "cell_type": "code",
      "source": [
        "candy = int(input()) # 6\n",
        "\n",
        "answer = 0\n",
        "for A in range(0, candy+1): # 일단 A한테 줄 수 있는 사탕 0~6개\n",
        "  for B in range(0, candy+1): # B: 0~6개\n",
        "    for C in range(0, candy+1): # C: 0~6개\n",
        "      if A+B+C == candy:\n",
        "        if A >= B+2:\n",
        "          if A != 0 and B != 0 and C != 0:\n",
        "            if C%2 == 0:\n",
        "              answer += 1\n",
        "\n",
        "print(answer)\n"
      ],
      "metadata": {
        "id": "c6sJ-tqHCmfK",
        "colab": {
          "base_uri": "https://localhost:8080/"
        },
        "outputId": "a0b152db-fa8a-4263-b3d8-d59d68bbcd9a"
      },
      "execution_count": null,
      "outputs": [
        {
          "output_type": "stream",
          "name": "stdout",
          "text": [
            "6\n",
            "1\n"
          ]
        }
      ]
    },
    {
      "cell_type": "markdown",
      "source": [
        "# 문제 3 연립방정식\n",
        "[BOJ 19532](https://www.acmicpc.net/problem/19532)\n",
        "\n",
        "-> 완전탐색 : 시간초과\n",
        "* 연립방정식을 그대로 코드로 옮겨서 x, y 범위 정해주기"
      ],
      "metadata": {
        "id": "ELML-fV-OsMx"
      }
    },
    {
      "cell_type": "code",
      "source": [
        "A, B, C, D, E, F = map(int, input().split())\n",
        "isBreaked = False\n",
        "\n",
        "for x in range(-10_000, 10_001):\n",
        "  for y in range(-10_000, 10_001):\n",
        "    if A*x+B*y == C:\n",
        "      if D*x+E*y == F:\n",
        "        print(x, y)\n",
        "        isBreaked = True\n",
        "        break\n",
        "  if isBreaked:\n",
        "    break"
      ],
      "metadata": {
        "colab": {
          "base_uri": "https://localhost:8080/"
        },
        "id": "dP47F5nVMrDV",
        "outputId": "2b45d47e-1e0e-477f-924b-65e6eb132206"
      },
      "execution_count": null,
      "outputs": [
        {
          "output_type": "stream",
          "name": "stdout",
          "text": [
            "1 3 -1 4 1 7\n",
            "2 -1\n"
          ]
        }
      ]
    },
    {
      "cell_type": "markdown",
      "source": [
        "# 파이썬\n",
        "* 1초에 약 1억번의 연산!\n",
        "* 10000 * 10000\n",
        "* 컴퓨터를 배려하지 않고, 이용하는 코드부터 짜자!\n",
        "\n"
      ],
      "metadata": {
        "id": "grEhopzpQc7F"
      }
    },
    {
      "cell_type": "markdown",
      "source": [
        "# 문제 4 숫자야구\n",
        "[BOJ 2503](https://www.acmicpc.net/problem/2503)\n",
        "* 조건에 맞는게 뭔지 모르겠지만 A가 생각할 수 있는 숫자 다 때려넣기"
      ],
      "metadata": {
        "id": "ADvMPxCIRhuy"
      }
    },
    {
      "cell_type": "code",
      "source": [
        "# 완전탐색 : 정답\n",
        "# 1. A가 정답으로 생각할 수 있는 모든 수를 넣어보기\n",
        "# 2. 그리고 B가 도전한 내용에 맞는지 확인하기\n",
        "\n",
        "N = int(input()) # 4\n",
        "hint = [list(map(int, input().split())) for _ in range(N)]\n",
        "answer = 0\n",
        "# [[123, 1, 1], [356, 1, 0], ...\n",
        "\n",
        "for a in range(1, 10): # 100의 자리수\n",
        "  for b in range(1, 10): # 10의 자리수\n",
        "    for c in range(1, 10): # 1의 자리수\n",
        "      if (a == b or b == c or c == a): # 숫자끼리 겹치는 경우 제외\n",
        "        continue\n",
        "\n",
        "      # 숫자가 정해졌다면\n",
        "      cnt = 0\n",
        "      for arr in hint:\n",
        "        check = list(str(arr[0]))\n",
        "        strike = arr[1]\n",
        "        ball = arr[2]\n",
        "\n",
        "        # a, b, c라는 숫자를 number 하고 비교해서\n",
        "        ball_count = 0\n",
        "        strike_count = 0\n",
        "\n",
        "        if a == int(check[0]):\n",
        "          strike_count += 1\n",
        "        if b == int(check[1]):\n",
        "          strike_count += 1\n",
        "        if c == int(check[2]):\n",
        "          strike_count += 1\n",
        "\n",
        "        if a == int(check[1]) or a == int(check[2]):\n",
        "          ball_count += 1\n",
        "        if b == int(check[0]) or b == int(check[2]):\n",
        "          ball_count += 1\n",
        "        if c == int(check[0]) or c == int(check[1]):\n",
        "          ball_count += 1\n",
        "\n",
        "        if strike != strike_count or ball != ball_count:\n",
        "          break\n",
        "        cnt += 1\n",
        "\n",
        "      if cnt == N:\n",
        "        answer += 1\n",
        "\n",
        "print(answer)"
      ],
      "metadata": {
        "id": "2dhDCv35RghW"
      },
      "execution_count": null,
      "outputs": []
    },
    {
      "cell_type": "code",
      "source": [
        "# 완전탐색\n",
        "# 1. A가 정답으로 생각할 수 있는 모든 수를 넣어보기\n",
        "# 2. 그리고 B가 도전한 내용에 맞는지 확인하기\n",
        "\n",
        "N = int(input()) # 4\n",
        "hint = [list(map(int, input().split())) for _ in range(N)]\n",
        "answer = 0\n",
        "# [[123, 1, 1], [356, 1, 0], ...\n",
        "\n",
        "for a in range(1, 10): # 100의 자리수\n",
        "  for b in range(1, 10): # 10의 자리수\n",
        "    for c in range(1, 10): # 1의 자리수\n",
        "      if (a == b or b == c or c == a): # 숫자끼리 겹치는 경우 제외\n",
        "        continue\n",
        "\n",
        "      # 숫자가 정해졌다면\n",
        "      cnt = 0\n",
        "      for arr in hint:\n",
        "        number = list(map(int, list(str(arr[0]))))\n",
        "        strike = arr[1]\n",
        "        ball = arr[2]\n",
        "\n",
        "        # a, b, c라는 숫자를 number 하고 비교해서\n",
        "        ball_count = 0\n",
        "        strike_count = 0\n",
        "\n",
        "        temp_number_list = [a, b, c]\n",
        "\n",
        "        if a == number[0]:\n",
        "            strike_count += 1\n",
        "        elif number[0] in temp_number_list:\n",
        "            ball_count += 1\n",
        "\n",
        "        if b == number[1]:\n",
        "            strike_count += 1\n",
        "        elif number[1] in temp_number_list:\n",
        "            ball_count += 1\n",
        "\n",
        "        if c == number[2]:\n",
        "            strike_count += 1\n",
        "        elif number[2] in temp_number_list:\n",
        "            ball_count += 1\n",
        "\n",
        "        if ball == ball_count and strike == strike_count:\n",
        "            cnt += 1\n",
        "\n",
        "      if cnt == N:\n",
        "          answer += 1\n",
        "\n",
        "print(answer)"
      ],
      "metadata": {
        "id": "o1Rx8hIoFQ3G"
      },
      "execution_count": null,
      "outputs": []
    },
    {
      "cell_type": "markdown",
      "source": [
        "# 문제 5 모이기\n",
        "[BOJ 2503](https://www.acmicpc.net/problem/1090)\n",
        "* 먼저 모든 거리에서 친구들이 만나도록 해보기\n",
        "* x,y 구분해서 구해주면 됨\n",
        "* 한 곳의 집에서 모이면 최소비용\n",
        "* 일단 네 명의 거리를 구한 다음 가까운 순서대로 더해주기만 하면 됨"
      ],
      "metadata": {
        "id": "Oh1NHlwNF7Ff"
      }
    },
    {
      "cell_type": "markdown",
      "source": [
        "### 내 답"
      ],
      "metadata": {
        "id": "dixjqM-Nl_n2"
      }
    },
    {
      "cell_type": "code",
      "source": [
        "# 완전탐색!\n",
        "# 모든 위치에서\n",
        "# 모든 친구들의 거리를 계산해서\n",
        "# 가장 작은 값을 알려주면 됨\n",
        "\n",
        "n = int(input())\n",
        "checkers = [list(map(int, input().split())) for _ in range(n)]\n",
        "print(checkers)\n",
        "w, h = 0, 0\n",
        "\n",
        "# 체커 판 가로, 세로 구하기\n",
        "for checker in checkers:\n",
        "  if checker[0] > w:\n",
        "    w = checker[0]\n",
        "  if checker[1] > h:\n",
        "    h = checker[1]\n",
        "\n",
        "# 모든 위치의 거리 계산할 리스트\n",
        "lengths = [[[0] for _ in range(w)] for _ in range(h)] #TODO :  3차원리스트를 2차원으로!\n",
        "\n",
        "# 모든 위치의 거리 계산\n",
        "for i in range(w):\n",
        "  for j in range(h):\n",
        "    for checker in checkers:\n",
        "      lengths[i][j] += abs(checker[0]-i)\n",
        "      lengths[i][j] += abs(checker[1]-j)\n",
        "\n",
        "# 모든 거리가 있는 이중리스트 안에서 최소 거리 구하기\n",
        "# 각 1차원 리스트들의 값을 min 해서\n",
        "# 그 값들의 map을 한번 더 min\n",
        "min_value = max(map(min, lengths))\n",
        "\n",
        "print(min_value)\n"
      ],
      "metadata": {
        "colab": {
          "base_uri": "https://localhost:8080/",
          "height": 358
        },
        "id": "qatJ7AGAGKY6",
        "outputId": "c1bdb0cc-68eb-4b3b-e27d-dcaacd0405be"
      },
      "execution_count": null,
      "outputs": [
        {
          "output_type": "stream",
          "name": "stdout",
          "text": [
            "4\n",
            "15 14\n",
            "15 16\n",
            "14 15\n",
            "16 15\n",
            "[[15, 14], [15, 16], [14, 15], [16, 15]]\n"
          ]
        },
        {
          "output_type": "error",
          "ename": "TypeError",
          "evalue": "ignored",
          "traceback": [
            "\u001b[0;31m---------------------------------------------------------------------------\u001b[0m",
            "\u001b[0;31mTypeError\u001b[0m                                 Traceback (most recent call last)",
            "\u001b[0;32m<ipython-input-4-d01ac9b61309>\u001b[0m in \u001b[0;36m<cell line: 22>\u001b[0;34m()\u001b[0m\n\u001b[1;32m     23\u001b[0m   \u001b[0;32mfor\u001b[0m \u001b[0mj\u001b[0m \u001b[0;32min\u001b[0m \u001b[0mrange\u001b[0m\u001b[0;34m(\u001b[0m\u001b[0mh\u001b[0m\u001b[0;34m)\u001b[0m\u001b[0;34m:\u001b[0m\u001b[0;34m\u001b[0m\u001b[0;34m\u001b[0m\u001b[0m\n\u001b[1;32m     24\u001b[0m     \u001b[0;32mfor\u001b[0m \u001b[0mchecker\u001b[0m \u001b[0;32min\u001b[0m \u001b[0mcheckers\u001b[0m\u001b[0;34m:\u001b[0m\u001b[0;34m\u001b[0m\u001b[0;34m\u001b[0m\u001b[0m\n\u001b[0;32m---> 25\u001b[0;31m       \u001b[0mlengths\u001b[0m\u001b[0;34m[\u001b[0m\u001b[0mi\u001b[0m\u001b[0;34m]\u001b[0m\u001b[0;34m[\u001b[0m\u001b[0mj\u001b[0m\u001b[0;34m]\u001b[0m \u001b[0;34m+=\u001b[0m \u001b[0mabs\u001b[0m\u001b[0;34m(\u001b[0m\u001b[0mchecker\u001b[0m\u001b[0;34m[\u001b[0m\u001b[0;36m0\u001b[0m\u001b[0;34m]\u001b[0m\u001b[0;34m-\u001b[0m\u001b[0mi\u001b[0m\u001b[0;34m)\u001b[0m\u001b[0;34m\u001b[0m\u001b[0;34m\u001b[0m\u001b[0m\n\u001b[0m\u001b[1;32m     26\u001b[0m       \u001b[0mlengths\u001b[0m\u001b[0;34m[\u001b[0m\u001b[0mi\u001b[0m\u001b[0;34m]\u001b[0m\u001b[0;34m[\u001b[0m\u001b[0mj\u001b[0m\u001b[0;34m]\u001b[0m \u001b[0;34m+=\u001b[0m \u001b[0mabs\u001b[0m\u001b[0;34m(\u001b[0m\u001b[0mchecker\u001b[0m\u001b[0;34m[\u001b[0m\u001b[0;36m1\u001b[0m\u001b[0;34m]\u001b[0m\u001b[0;34m-\u001b[0m\u001b[0mj\u001b[0m\u001b[0;34m)\u001b[0m\u001b[0;34m\u001b[0m\u001b[0;34m\u001b[0m\u001b[0m\n\u001b[1;32m     27\u001b[0m \u001b[0;34m\u001b[0m\u001b[0m\n",
            "\u001b[0;31mTypeError\u001b[0m: 'int' object is not iterable"
          ]
        }
      ]
    },
    {
      "cell_type": "code",
      "source": [
        "# 완전탐색!\n",
        "# 모든 위치에서\n",
        "# 모든 친구들의 거리를 계산해서\n",
        "# 가장 작은 값을 알려주면 됨\n",
        "\n",
        "n = int(input())\n",
        "checkers = [list(map(int, input().split())) for _ in range(n)]\n",
        "print(checkers)\n",
        "w, h = 0, 0\n",
        "\n",
        "# 체커 판 가로, 세로 구하기\n",
        "for checker in checkers:\n",
        "  if checker[0] > w:\n",
        "    w = checker[0]\n",
        "  if checker[1] > h:\n",
        "    h = checker[1]\n",
        "\n",
        "print(w, h)\n",
        "\n",
        "# 모든 위치의 거리 계산할 리스트\n",
        "lengths = [[0 for _ in range(w)] for _ in range(h)]  # TODO : 가로 세로를 반대로 지정해야\n",
        "\n",
        "# 모든 위치의 거리 계산\n",
        "for i in range(w):\n",
        "  for j in range(h):\n",
        "    for checker in checkers:\n",
        "      lengths[i][j] += abs(checker[0]-i)\n",
        "      lengths[i][j] += abs(checker[1]-j)\n",
        "\n",
        "# 모든 거리가 있는 이중리스트 안에서 최소 거리 구하기\n",
        "# 각 1차원 리스트들의 값을 min 해서\n",
        "# 그 값들의 map을 한번 더 min\n",
        "print(lengths)\n",
        "min_value = min(map(min, lengths))\n",
        "\n",
        "print(min_value)\n"
      ],
      "metadata": {
        "colab": {
          "base_uri": "https://localhost:8080/",
          "height": 376
        },
        "id": "Nko8VH7gNQUx",
        "outputId": "8d733f04-e635-4b84-96f9-c1365cb32569"
      },
      "execution_count": null,
      "outputs": [
        {
          "output_type": "stream",
          "name": "stdout",
          "text": [
            "4\n",
            "1 1\n",
            "2 1\n",
            "4 1\n",
            "9 1\n",
            "[[1, 1], [2, 1], [4, 1], [9, 1]]\n",
            "9 1\n"
          ]
        },
        {
          "output_type": "error",
          "ename": "IndexError",
          "evalue": "ignored",
          "traceback": [
            "\u001b[0;31m---------------------------------------------------------------------------\u001b[0m",
            "\u001b[0;31mIndexError\u001b[0m                                Traceback (most recent call last)",
            "\u001b[0;32m<ipython-input-9-13ef3ab6dd66>\u001b[0m in \u001b[0;36m<cell line: 24>\u001b[0;34m()\u001b[0m\n\u001b[1;32m     25\u001b[0m   \u001b[0;32mfor\u001b[0m \u001b[0mj\u001b[0m \u001b[0;32min\u001b[0m \u001b[0mrange\u001b[0m\u001b[0;34m(\u001b[0m\u001b[0mh\u001b[0m\u001b[0;34m)\u001b[0m\u001b[0;34m:\u001b[0m\u001b[0;34m\u001b[0m\u001b[0;34m\u001b[0m\u001b[0m\n\u001b[1;32m     26\u001b[0m     \u001b[0;32mfor\u001b[0m \u001b[0mchecker\u001b[0m \u001b[0;32min\u001b[0m \u001b[0mcheckers\u001b[0m\u001b[0;34m:\u001b[0m\u001b[0;34m\u001b[0m\u001b[0;34m\u001b[0m\u001b[0m\n\u001b[0;32m---> 27\u001b[0;31m       \u001b[0mlengths\u001b[0m\u001b[0;34m[\u001b[0m\u001b[0mi\u001b[0m\u001b[0;34m]\u001b[0m\u001b[0;34m[\u001b[0m\u001b[0mj\u001b[0m\u001b[0;34m]\u001b[0m \u001b[0;34m+=\u001b[0m \u001b[0mabs\u001b[0m\u001b[0;34m(\u001b[0m\u001b[0mchecker\u001b[0m\u001b[0;34m[\u001b[0m\u001b[0;36m0\u001b[0m\u001b[0;34m]\u001b[0m\u001b[0;34m-\u001b[0m\u001b[0mi\u001b[0m\u001b[0;34m)\u001b[0m\u001b[0;34m\u001b[0m\u001b[0;34m\u001b[0m\u001b[0m\n\u001b[0m\u001b[1;32m     28\u001b[0m       \u001b[0mlengths\u001b[0m\u001b[0;34m[\u001b[0m\u001b[0mi\u001b[0m\u001b[0;34m]\u001b[0m\u001b[0;34m[\u001b[0m\u001b[0mj\u001b[0m\u001b[0;34m]\u001b[0m \u001b[0;34m+=\u001b[0m \u001b[0mabs\u001b[0m\u001b[0;34m(\u001b[0m\u001b[0mchecker\u001b[0m\u001b[0;34m[\u001b[0m\u001b[0;36m1\u001b[0m\u001b[0;34m]\u001b[0m\u001b[0;34m-\u001b[0m\u001b[0mj\u001b[0m\u001b[0;34m)\u001b[0m\u001b[0;34m\u001b[0m\u001b[0;34m\u001b[0m\u001b[0m\n\u001b[1;32m     29\u001b[0m \u001b[0;34m\u001b[0m\u001b[0m\n",
            "\u001b[0;31mIndexError\u001b[0m: list index out of range"
          ]
        }
      ]
    },
    {
      "cell_type": "code",
      "source": [
        "# 완전탐색!\n",
        "# 모든 위치에서\n",
        "# 모든 친구들의 거리를 계산해서\n",
        "# 가장 작은 값을 알려주면 됨\n",
        "\n",
        "n = int(input())\n",
        "checkers = [list(map(int, input().split())) for _ in range(n)]\n",
        "print(checkers)\n",
        "x, y = 0, 0\n",
        "\n",
        "# 체커 판 가로, 세로 구하기\n",
        "for checker in checkers:\n",
        "  if checker[0] > x:\n",
        "    x = checker[0]\n",
        "  if checker[1] > y:\n",
        "    y = checker[1]\n",
        "\n",
        "print(w, h)\n",
        "\n",
        "# 모든 위치의 거리 계산할 리스트\n",
        "lengths = [[0 for _ in range(y)] for _ in range(x)]\n",
        "\n",
        "# 모든 위치의 거리 계산\n",
        "for i in range(x):\n",
        "  for j in range(y):\n",
        "    for checker in checkers:\n",
        "      lengths[i][j] += abs(checker[0]-i)\n",
        "      lengths[i][j] += abs(checker[1]-j)\n",
        "\n",
        "# 모든 거리가 있는 이중리스트 안에서 최소 거리 구하기\n",
        "# 각 1차원 리스트들의 값을 min 해서\n",
        "# 그 값들의 map을 한번 더 min\n",
        "print(lengths)\n",
        "min_value = min(map(min, lengths))\n",
        "\n",
        "print(min_value)\n"
      ],
      "metadata": {
        "colab": {
          "base_uri": "https://localhost:8080/"
        },
        "id": "jTNbgttgOc4Y",
        "outputId": "1aadb98e-f712-4079-ff06-c93bb0de6975"
      },
      "execution_count": null,
      "outputs": [
        {
          "output_type": "stream",
          "name": "stdout",
          "text": [
            "2\n",
            "4 7\n",
            "4 7\n",
            "[[4, 7], [4, 7]]\n",
            "4 7\n",
            "[[22, 20, 18, 16, 14, 12, 10], [20, 18, 16, 14, 12, 10, 8], [18, 16, 14, 12, 10, 8, 6], [16, 14, 12, 10, 8, 6, 4]]\n",
            "4\n"
          ]
        }
      ]
    },
    {
      "cell_type": "code",
      "source": [
        "# 완전탐색!\n",
        "# 모든 위치에서\n",
        "# 모든 친구들의 거리를 계산해서\n",
        "# 가장 작은 값을 알려주면 됨\n",
        "\n",
        "# 1번 아이디어\n",
        "# x, y를 구분해서 계산해준 뒤에 합쳐서\n",
        "# 최솟값을 알려주면 됨!\n",
        "\n",
        "# 2번 아이디어\n",
        "# 모든 곳이 아닌, 가장 가운데에서 모이는 게 가장 효율적이지 않을까?\n",
        "# (1차원)\n",
        "# 무리가 한 곳에서 모일 때, 비용을 최소화하기 위해서는\n",
        "# 무리의 집 중 한 곳에서 모이면 된다.\n",
        "# 어차피 가운데에서 모이는 거나, 무리의 집에서 모이는 거나 거리는 똑같다.\n",
        "# (2차원)\n",
        "# 무리가 한 곳에서 모일 때, 비용을 최소화하기 위해서는\n",
        "# 무리의 집의 범위 x, y 중 한 곳에서 모이면 된다. -> ?\n",
        "\n",
        "# 3번 아이디어\n",
        "# 한 곳에 한 명이 모이기 위한 최소 비용 : 0\n",
        "# 한 곳에 2명이 모여야 할 경우\n",
        "# 15 14 = 짱구 A\n",
        "# 15 16 = 철수 B\n",
        "# 14 15 = 맹구 C\n",
        "# 16 15 = 유리 D\n",
        "# 우리는 넷 중 누구의 조합이 최소인지 모른다.\n",
        "# 그 점에서 가까운 두 명의 거리만 더해주면 되지 않을까?\n",
        "\n",
        "# A번집 B번집 C번집에 걸리는 거리...\n",
        "# [1, 2, 3], [3, 4, 5], [2, 2, 5]\n",
        "# 최소비용 1+2=3, 최소비용 3+4=7, 최소비용 2+2=4\n",
        "# 두 사람이 모일 수 있는 최소 거리는 3\n",
        "\n",
        "# for 반복문\n",
        "# 입력과 출력\n",
        "# 배열 List\n",
        "# 정렬 sort"
      ],
      "metadata": {
        "id": "0QLjveTXQKWt"
      },
      "execution_count": null,
      "outputs": []
    },
    {
      "cell_type": "code",
      "source": [
        "# 완전탐색!\n",
        "# 모든 위치에서\n",
        "# 모든 친구들의 거리를 계산해서\n",
        "# 가장 작은 값을 알려주면 됨\n",
        "\n",
        "n = int(input())\n",
        "checkers = [list(map(int, input().split())) for _ in range(n)]\n",
        "print(checkers)\n",
        "\n",
        "# 모든 위치의 거리 계산할 리스트\n",
        "lengths = [[] for _ in range(n)]\n",
        "\n",
        "# 모든 위치의 거리 계산\n",
        "for i in range(n):\n",
        "  for j in range(n):\n",
        "    lengths[i].append(abs(checkers[i][0]-checkers[j][0]) + abs(checkers[i][1] - checkers[j][1]))\n",
        "  lengths[i].sort()\n",
        "# 모든 거리가 있는 이중리스트 안에서 최소 거리 구하기\n",
        "# 각 1차원 리스트들의 값을 min 해서\n",
        "# 그 값들의 map을 한번 더 min\n",
        "lengths.sort()\n",
        "print(lengths)\n",
        "min_value = min(map(min, lengths))\n",
        "\n",
        "#\n",
        "print(min_value)\n"
      ],
      "metadata": {
        "colab": {
          "base_uri": "https://localhost:8080/"
        },
        "id": "Bwi1qNF8mDAA",
        "outputId": "8c6b6c2d-9b2d-4842-876e-03f8a4964e3e"
      },
      "execution_count": null,
      "outputs": [
        {
          "output_type": "stream",
          "name": "stdout",
          "text": [
            "4\n",
            "15 14\n",
            "15 16\n",
            "14 15\n",
            "16 15\n",
            "[[15, 14], [15, 16], [14, 15], [16, 15]]\n",
            "[1, 3, 1, 3, 2, 2, 0, 2, 3, 1, 1, 3, 0, 2, 2, 2, 1, 1, 1, 1, 2, 0, 2, 2, 1, 3, 3, 1, 2, 2, 2, 0, 3, 1, 3, 1]\n",
            "[0, 0, 0, 0, 1, 1, 1, 1, 1, 1, 1, 1, 1, 1, 1, 1, 2, 2, 2, 2, 2, 2, 2, 2, 2, 2, 2, 2, 3, 3, 3, 3, 3, 3, 3, 3]\n",
            "0\n"
          ]
        }
      ]
    },
    {
      "cell_type": "code",
      "source": [
        "# 완전탐색!\n",
        "# 모든 위치에서\n",
        "# 모든 친구들의 거리를 계산해서\n",
        "# 가장 작은 값을 알려주면 됨\n",
        "\n",
        "n = int(input())\n",
        "checkers = [list(map(int, input().split())) for _ in range(n)]\n",
        "print(checkers)\n",
        "\n",
        "x_list = list(map(lambda x: x[0], checkers))\n",
        "y_list = list(map(lambda x: x[1], checkers))\n",
        "\n",
        "# 체커 판 가로, 세로 구하기\n",
        "x_min, x_max = min(x_list), max(x_list)\n",
        "y_min, y_max = min(y_list), max(y_list)\n",
        "\n",
        "print(x_min, x_max)\n",
        "print(y_min, y_max)\n",
        "\n",
        "# 모든 위치의 거리 계산할 리스트\n",
        "lengths = [[] for _ in range((x_max - x_min +1)*(y_max - y_min + 1))]\n",
        "\n",
        "# 모든 위치의 거리 계산\n",
        "length_i = 0\n",
        "for i in range(x_min, x_max+1): # x 3번 반복\n",
        "  for j in range(y_min, y_max+1): # y 3번 반복\n",
        "    for k in range(n):\n",
        "      lengths[length_i].append(abs(i-checkers[k][0]) + abs(j - checkers[k][1]))\n",
        "    print(i, j, lengths)\n",
        "    lengths[length_i].sort()\n",
        "    length_i += 1\n",
        "print(lengths)\n",
        "# 모든 거리가 있는 이중리스트 안에서 최소 거리 구하기\n",
        "# 각 1차원 리스트들의 값을 min 해서\n",
        "# 그 값들의 map을 한번 더 min\n",
        "lengths.sort()\n",
        "print(lengths)\n",
        "\n",
        "for i in range(n):\n",
        "  cnt = []\n",
        "  for j in range(len(lengths)):\n",
        "    cnt.append(sum(lengths[j][0:i+1]))\n",
        "  print(min(cnt), end = \" \")\n"
      ],
      "metadata": {
        "colab": {
          "base_uri": "https://localhost:8080/"
        },
        "id": "W82NTG8w6ybt",
        "outputId": "daaabd61-e369-4e0f-b442-f2146733cffb"
      },
      "execution_count": null,
      "outputs": [
        {
          "output_type": "stream",
          "name": "stdout",
          "text": [
            "2\n",
            "4 7\n",
            "4 7\n",
            "[[4, 7], [4, 7]]\n",
            "4 4\n",
            "7 7\n",
            "4 7 [[0, 0]]\n",
            "[[0, 0]]\n",
            "[[0, 0]]\n",
            "0 0 "
          ]
        }
      ]
    },
    {
      "cell_type": "code",
      "source": [
        "# 완전탐색!\n",
        "# 모든 위치에서\n",
        "# 모든 친구들의 거리를 계산해서\n",
        "# 가장 작은 값을 알려주면 됨\n",
        "\n",
        "n = int(input())\n",
        "checkers = [list(map(int, input().split())) for _ in range(n)]\n",
        "\n",
        "x_list = list(map(lambda x: x[0], checkers))\n",
        "y_list = list(map(lambda x: x[1], checkers))\n",
        "\n",
        "# 체커 판 가로, 세로 구하기\n",
        "x_min, x_max = min(x_list), max(x_list)\n",
        "y_min, y_max = min(y_list), max(y_list)\n",
        "\n",
        "# 모든 위치의 거리 계산할 리스트\n",
        "lengths = [[] for _ in range((x_max - x_min +1)*(y_max - y_min + 1))]\n",
        "\n",
        "# 모든 위치의 거리 계산\n",
        "length_i = 0\n",
        "for i in range(x_min, x_max+1): # x 3번 반복\n",
        "  for j in range(y_min, y_max+1): # y 3번 반복\n",
        "    for k in range(n):\n",
        "      lengths[length_i].append(abs(i-checkers[k][0]) + abs(j - checkers[k][1]))\n",
        "    lengths[length_i].sort()\n",
        "    length_i += 1\n",
        "\n",
        "# 모든 거리가 있는 이중리스트 안에서 최소 거리 구하기\n",
        "# 각 1차원 리스트들의 값을 min 해서\n",
        "# 그 값들의 map을 한번 더 min\n",
        "\n",
        "for i in range(n):\n",
        "  cnt = []\n",
        "  for j in range(len(lengths)):\n",
        "    cnt.append(sum(lengths[j][0:i+1]))\n",
        "  print(min(cnt), end = \" \")\n"
      ],
      "metadata": {
        "colab": {
          "base_uri": "https://localhost:8080/"
        },
        "id": "zDydzn2K-Cdy",
        "outputId": "0acc456a-bad9-4ad1-d21e-f1ded1c8fe1c"
      },
      "execution_count": null,
      "outputs": [
        {
          "output_type": "stream",
          "name": "stdout",
          "text": [
            "2\n",
            "4 7\n",
            "4 7\n",
            "0 0 "
          ]
        }
      ]
    },
    {
      "cell_type": "code",
      "source": [
        "# 메모리 초과 -> length가 너무 크다"
      ],
      "metadata": {
        "id": "paqFGAf_C9Da"
      },
      "execution_count": null,
      "outputs": []
    },
    {
      "cell_type": "code",
      "source": [
        "# 실제 코테에서 메모리 초과는 어떻게 고려하지?"
      ],
      "metadata": {
        "id": "CpoiIXpcF0EX"
      },
      "execution_count": null,
      "outputs": []
    },
    {
      "cell_type": "code",
      "source": [
        "n = int(input())\n",
        "checkers = [list(map(int, input().split())) for _ in range(n)]\n",
        "\n",
        "x_list = list(map(lambda x: x[0], checkers))\n",
        "y_list = list(map(lambda x: x[1], checkers))\n",
        "\n",
        "# 체커 판 가로, 세로 구하기\n",
        "x_min, x_max = min(x_list), max(x_list)\n",
        "y_min, y_max = min(y_list), max(y_list)\n",
        "\n",
        "# 모든 위치의 거리 계산\n",
        "for i in range(1, n + 1):\n",
        "    result = []\n",
        "    for x in range(x_min, x_max + 1):\n",
        "        for y in range(y_min, y_max + 1):\n",
        "            distance = [abs(x - checker[0]) + abs(y - checker[1]) for checker in checkers]\n",
        "            distance.sort()\n",
        "            result.append(sum(distance[:i]))\n",
        "    print(min(result), end=' ')\n"
      ],
      "metadata": {
        "colab": {
          "base_uri": "https://localhost:8080/"
        },
        "id": "eZZFDeiVFDHK",
        "outputId": "690afbd3-0638-4bb0-ef85-3cba30542c5f"
      },
      "execution_count": null,
      "outputs": [
        {
          "output_type": "stream",
          "name": "stdout",
          "text": [
            "2\n",
            "4 7\n",
            "4 7\n",
            "0 0 "
          ]
        }
      ]
    },
    {
      "cell_type": "code",
      "source": [
        "# 시간 초과 -> result가 너무 크다"
      ],
      "metadata": {
        "id": "5J-Kg49_Gxha"
      },
      "execution_count": null,
      "outputs": []
    },
    {
      "cell_type": "code",
      "source": [
        "n = int(input())\n",
        "checkers = [list(map(int, input().split())) for _ in range(n)]\n",
        "\n",
        "x_list = list(map(lambda x: x[0], checkers))\n",
        "y_list = list(map(lambda x: x[1], checkers))\n",
        "\n",
        "# 체커 판 가로, 세로 1구하기\n",
        "x_min, x_max = min(x_list), max(x_list)\n",
        "y_min, y_max = min(y_list), max(y_list)\n",
        "\n",
        "# 모든 위치의 거리 계산\n",
        "for i in range(1, n + 1):\n",
        "  # 초기 최솟값 설정\n",
        "  min_result = float('inf')\n",
        "  for x in range(x_min, x_max + 1):\n",
        "      for y in range(y_min, y_max + 1):\n",
        "          distance = [abs(x - checker[0]) + abs(y - checker[1]) for checker in checkers]\n",
        "          distance.sort()\n",
        "          sum_distance = sum(distance[:i])\n",
        "          if min_result > sum_distance:\n",
        "            min_result = sum_distance\n",
        "  print(min_result, end=' ')\n"
      ],
      "metadata": {
        "colab": {
          "base_uri": "https://localhost:8080/"
        },
        "id": "GEG9_EDEGCIb",
        "outputId": "7b077c0f-021d-4424-cb40-d743f4f1d153"
      },
      "execution_count": null,
      "outputs": [
        {
          "output_type": "stream",
          "name": "stdout",
          "text": [
            "4\n",
            "15 14\n",
            "15 16\n",
            "14 15\n",
            "16 15\n",
            "0 2 3 4 "
          ]
        }
      ]
    },
    {
      "cell_type": "code",
      "source": [
        "# 그래도 시간초과"
      ],
      "metadata": {
        "id": "5zBwuZg1Him9"
      },
      "execution_count": null,
      "outputs": []
    },
    {
      "cell_type": "code",
      "source": [
        "n = int(input())\n",
        "checkers = [list(map(int, input().split())) for _ in range(n)]\n",
        "\n",
        "x_list = list(map(lambda x: x[0], checkers))\n",
        "y_list = list(map(lambda x: x[1], checkers))\n",
        "\n",
        "# 체커 판 가로, 세로 구하기\n",
        "x_min, x_max = min(x_list), max(x_list)\n",
        "y_min, y_max = min(y_list), max(y_list)\n",
        "\n",
        "# 각 위치에서 체커까지의 거리를 저장할 리스트\n",
        "distances = [[0]*n for _ in range((x_max - x_min +1)*(y_max - y_min + 1))]\n",
        "\n",
        "idx = 0\n",
        "for x in range(x_min, x_max + 1):\n",
        "    for y in range(y_min, y_max + 1):\n",
        "      for i in range(n):\n",
        "        distances[idx][i] = abs(x - checkers[i][0]) + abs(y - checkers[i][1])\n",
        "      distances[idx].sort()\n",
        "      idx += 1\n",
        "\n",
        "# 모든 위치의 거리 계산\n",
        "for i in range(1, n + 1):\n",
        "  # 초기 최솟값 설정\n",
        "  min_result = float('inf')\n",
        "  for distance in distances:\n",
        "    sum_distance = sum(distance[:i])\n",
        "    if min_result > sum_distance:\n",
        "      min_result = sum_distance\n",
        "  print(min_result, end=' ')\n"
      ],
      "metadata": {
        "colab": {
          "base_uri": "https://localhost:8080/"
        },
        "id": "n3OLWr7YGEXy",
        "outputId": "37999007-ae24-4d60-b677-37a8c7cdd3cf"
      },
      "execution_count": null,
      "outputs": [
        {
          "output_type": "stream",
          "name": "stdout",
          "text": [
            "4\n",
            "1 1\n",
            "2 1\n",
            "4 1\n",
            "9 1\n",
            "0 1 3 10 "
          ]
        }
      ]
    },
    {
      "cell_type": "code",
      "source": [
        "n = int(input())\n",
        "arr = []\n",
        "arr_y = []\n",
        "arr_x = []\n",
        "answer = [-1]*n\n",
        "\n",
        "# 입력 받기\n",
        "for _ in range(n):\n",
        "  a,b = map(int,input().split())\n",
        "  arr.append([a,b])\n",
        "  arr_y.append(b)\n",
        "  arr_x.append(a)\n",
        "\n",
        "# 만날 장소 정하기\n",
        "for y in arr_y:\n",
        "  for x in arr_x:\n",
        "    dist = []\n",
        "\n",
        "    # 만날 장소로 각각의 점들이 오는 비용 계산하기\n",
        "    for ex,ey in arr:\n",
        "      d = abs(ex-x) + abs(ey-y)\n",
        "      dist.append(d)\n",
        "\n",
        "\n",
        "  # 가까운 순서대로 정렬하기\n",
        "  dist.sort()\n",
        "\n",
        "  tmp = 0\n",
        "  for i in range(len(dist)):\n",
        "      d = dist[i]\n",
        "      tmp += d\n",
        "      if answer[i] == -1:\n",
        "          answer[i] = tmp\n",
        "      else :\n",
        "          answer[i] = min(tmp, answer[i])\n",
        "\n",
        "print(*answer)\n"
      ],
      "metadata": {
        "colab": {
          "base_uri": "https://localhost:8080/"
        },
        "id": "ztd3k71wMb1Q",
        "outputId": "b012abe5-b85c-4a25-eda3-0bab53fb4d8b"
      },
      "execution_count": null,
      "outputs": [
        {
          "output_type": "stream",
          "name": "stdout",
          "text": [
            "2\n",
            "4 7\n",
            "4 7\n",
            "0 0\n"
          ]
        }
      ]
    },
    {
      "cell_type": "markdown",
      "source": [
        "# 플래티넘 문제도 쉽다.\n",
        "# 보자마자, 어떻게 접근하면 될지 모르기 때문\n",
        "\n",
        "*  오늘 풀리지 않는다면, 오늘 떠올린 아이디어를 풀고, 다음 날 풀고, 다음 날 풀기... 한달 뒤도 괜찮음.\n",
        "\n",
        "# [관찰 -> 생각] -> 구현 (스킬)"
      ],
      "metadata": {
        "id": "D1741s8qmFDD"
      }
    },
    {
      "cell_type": "markdown",
      "source": [
        "# 지금 알고리즘은 다들 어렵게 풀고 있다.\n",
        "* 그래서 쉬운 문제의 랭크도 쉽게 높아질 수 있다.\n",
        "\n",
        "# 쉽게 푸는 연습을 하자.\n",
        "* 코딩테스트 -> 완전탐색 -> 최적화 -> 기억 ->\n",
        "* 조금씩 효율적으로 바꿔서 공부하자.\n",
        "\n",
        "\n",
        "# 바로 아이디어나 규칙을 찾는 건 어려움.\n",
        "* but 반드시 정답에 도달할 수 있도록.\n",
        "\n",
        "# 정수론\n",
        "* 수학으로 최적화 하는 방법"
      ],
      "metadata": {
        "id": "Y_xm6mo4t9q7"
      }
    }
  ]
}